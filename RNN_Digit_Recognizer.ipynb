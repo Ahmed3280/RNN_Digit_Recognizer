{
  "nbformat": 4,
  "nbformat_minor": 0,
  "metadata": {
    "colab": {
      "provenance": [],
      "gpuType": "T4"
    },
    "kernelspec": {
      "name": "python3",
      "display_name": "Python 3"
    },
    "language_info": {
      "name": "python"
    },
    "accelerator": "GPU"
  },
  "cells": [
    {
      "cell_type": "code",
      "execution_count": 1,
      "metadata": {
        "colab": {
          "base_uri": "https://localhost:8080/",
          "height": 90
        },
        "id": "o6FKZ9zL6LYc",
        "outputId": "6b0e7ba8-06e2-463f-8ee1-a6b0d6c5eb15"
      },
      "outputs": [
        {
          "output_type": "display_data",
          "data": {
            "text/plain": [
              "<IPython.core.display.HTML object>"
            ],
            "text/html": [
              "\n",
              "     <input type=\"file\" id=\"files-50b82695-0026-4148-8929-e73eaf607cbe\" name=\"files[]\" multiple disabled\n",
              "        style=\"border:none\" />\n",
              "     <output id=\"result-50b82695-0026-4148-8929-e73eaf607cbe\">\n",
              "      Upload widget is only available when the cell has been executed in the\n",
              "      current browser session. Please rerun this cell to enable.\n",
              "      </output>\n",
              "      <script>// Copyright 2017 Google LLC\n",
              "//\n",
              "// Licensed under the Apache License, Version 2.0 (the \"License\");\n",
              "// you may not use this file except in compliance with the License.\n",
              "// You may obtain a copy of the License at\n",
              "//\n",
              "//      http://www.apache.org/licenses/LICENSE-2.0\n",
              "//\n",
              "// Unless required by applicable law or agreed to in writing, software\n",
              "// distributed under the License is distributed on an \"AS IS\" BASIS,\n",
              "// WITHOUT WARRANTIES OR CONDITIONS OF ANY KIND, either express or implied.\n",
              "// See the License for the specific language governing permissions and\n",
              "// limitations under the License.\n",
              "\n",
              "/**\n",
              " * @fileoverview Helpers for google.colab Python module.\n",
              " */\n",
              "(function(scope) {\n",
              "function span(text, styleAttributes = {}) {\n",
              "  const element = document.createElement('span');\n",
              "  element.textContent = text;\n",
              "  for (const key of Object.keys(styleAttributes)) {\n",
              "    element.style[key] = styleAttributes[key];\n",
              "  }\n",
              "  return element;\n",
              "}\n",
              "\n",
              "// Max number of bytes which will be uploaded at a time.\n",
              "const MAX_PAYLOAD_SIZE = 100 * 1024;\n",
              "\n",
              "function _uploadFiles(inputId, outputId) {\n",
              "  const steps = uploadFilesStep(inputId, outputId);\n",
              "  const outputElement = document.getElementById(outputId);\n",
              "  // Cache steps on the outputElement to make it available for the next call\n",
              "  // to uploadFilesContinue from Python.\n",
              "  outputElement.steps = steps;\n",
              "\n",
              "  return _uploadFilesContinue(outputId);\n",
              "}\n",
              "\n",
              "// This is roughly an async generator (not supported in the browser yet),\n",
              "// where there are multiple asynchronous steps and the Python side is going\n",
              "// to poll for completion of each step.\n",
              "// This uses a Promise to block the python side on completion of each step,\n",
              "// then passes the result of the previous step as the input to the next step.\n",
              "function _uploadFilesContinue(outputId) {\n",
              "  const outputElement = document.getElementById(outputId);\n",
              "  const steps = outputElement.steps;\n",
              "\n",
              "  const next = steps.next(outputElement.lastPromiseValue);\n",
              "  return Promise.resolve(next.value.promise).then((value) => {\n",
              "    // Cache the last promise value to make it available to the next\n",
              "    // step of the generator.\n",
              "    outputElement.lastPromiseValue = value;\n",
              "    return next.value.response;\n",
              "  });\n",
              "}\n",
              "\n",
              "/**\n",
              " * Generator function which is called between each async step of the upload\n",
              " * process.\n",
              " * @param {string} inputId Element ID of the input file picker element.\n",
              " * @param {string} outputId Element ID of the output display.\n",
              " * @return {!Iterable<!Object>} Iterable of next steps.\n",
              " */\n",
              "function* uploadFilesStep(inputId, outputId) {\n",
              "  const inputElement = document.getElementById(inputId);\n",
              "  inputElement.disabled = false;\n",
              "\n",
              "  const outputElement = document.getElementById(outputId);\n",
              "  outputElement.innerHTML = '';\n",
              "\n",
              "  const pickedPromise = new Promise((resolve) => {\n",
              "    inputElement.addEventListener('change', (e) => {\n",
              "      resolve(e.target.files);\n",
              "    });\n",
              "  });\n",
              "\n",
              "  const cancel = document.createElement('button');\n",
              "  inputElement.parentElement.appendChild(cancel);\n",
              "  cancel.textContent = 'Cancel upload';\n",
              "  const cancelPromise = new Promise((resolve) => {\n",
              "    cancel.onclick = () => {\n",
              "      resolve(null);\n",
              "    };\n",
              "  });\n",
              "\n",
              "  // Wait for the user to pick the files.\n",
              "  const files = yield {\n",
              "    promise: Promise.race([pickedPromise, cancelPromise]),\n",
              "    response: {\n",
              "      action: 'starting',\n",
              "    }\n",
              "  };\n",
              "\n",
              "  cancel.remove();\n",
              "\n",
              "  // Disable the input element since further picks are not allowed.\n",
              "  inputElement.disabled = true;\n",
              "\n",
              "  if (!files) {\n",
              "    return {\n",
              "      response: {\n",
              "        action: 'complete',\n",
              "      }\n",
              "    };\n",
              "  }\n",
              "\n",
              "  for (const file of files) {\n",
              "    const li = document.createElement('li');\n",
              "    li.append(span(file.name, {fontWeight: 'bold'}));\n",
              "    li.append(span(\n",
              "        `(${file.type || 'n/a'}) - ${file.size} bytes, ` +\n",
              "        `last modified: ${\n",
              "            file.lastModifiedDate ? file.lastModifiedDate.toLocaleDateString() :\n",
              "                                    'n/a'} - `));\n",
              "    const percent = span('0% done');\n",
              "    li.appendChild(percent);\n",
              "\n",
              "    outputElement.appendChild(li);\n",
              "\n",
              "    const fileDataPromise = new Promise((resolve) => {\n",
              "      const reader = new FileReader();\n",
              "      reader.onload = (e) => {\n",
              "        resolve(e.target.result);\n",
              "      };\n",
              "      reader.readAsArrayBuffer(file);\n",
              "    });\n",
              "    // Wait for the data to be ready.\n",
              "    let fileData = yield {\n",
              "      promise: fileDataPromise,\n",
              "      response: {\n",
              "        action: 'continue',\n",
              "      }\n",
              "    };\n",
              "\n",
              "    // Use a chunked sending to avoid message size limits. See b/62115660.\n",
              "    let position = 0;\n",
              "    do {\n",
              "      const length = Math.min(fileData.byteLength - position, MAX_PAYLOAD_SIZE);\n",
              "      const chunk = new Uint8Array(fileData, position, length);\n",
              "      position += length;\n",
              "\n",
              "      const base64 = btoa(String.fromCharCode.apply(null, chunk));\n",
              "      yield {\n",
              "        response: {\n",
              "          action: 'append',\n",
              "          file: file.name,\n",
              "          data: base64,\n",
              "        },\n",
              "      };\n",
              "\n",
              "      let percentDone = fileData.byteLength === 0 ?\n",
              "          100 :\n",
              "          Math.round((position / fileData.byteLength) * 100);\n",
              "      percent.textContent = `${percentDone}% done`;\n",
              "\n",
              "    } while (position < fileData.byteLength);\n",
              "  }\n",
              "\n",
              "  // All done.\n",
              "  yield {\n",
              "    response: {\n",
              "      action: 'complete',\n",
              "    }\n",
              "  };\n",
              "}\n",
              "\n",
              "scope.google = scope.google || {};\n",
              "scope.google.colab = scope.google.colab || {};\n",
              "scope.google.colab._files = {\n",
              "  _uploadFiles,\n",
              "  _uploadFilesContinue,\n",
              "};\n",
              "})(self);\n",
              "</script> "
            ]
          },
          "metadata": {}
        },
        {
          "output_type": "stream",
          "name": "stdout",
          "text": [
            "Saving kaggle.json to kaggle.json\n"
          ]
        },
        {
          "output_type": "execute_result",
          "data": {
            "text/plain": [
              "{'kaggle.json': b'{\"username\":\"ahmedakram1\",\"key\":\"66701960f6726013c71587d887b8253a\"}'}"
            ]
          },
          "metadata": {},
          "execution_count": 1
        }
      ],
      "source": [
        "from google.colab import files\n",
        "files.upload()"
      ]
    },
    {
      "cell_type": "code",
      "source": [
        "!mkdir -p ~/.kaggle\n",
        "!cp kaggle.json ~/.kaggle/\n",
        "!chmod 600 ~/.kaggle/kaggle.json"
      ],
      "metadata": {
        "id": "kHr_CXzX6cHT"
      },
      "execution_count": 2,
      "outputs": []
    },
    {
      "cell_type": "code",
      "source": [
        "!kaggle competitions download -c digit-recognizer"
      ],
      "metadata": {
        "colab": {
          "base_uri": "https://localhost:8080/"
        },
        "id": "VaLxghv66dOe",
        "outputId": "6f24a646-bb9f-409b-f109-9df9daa261e9"
      },
      "execution_count": 3,
      "outputs": [
        {
          "output_type": "stream",
          "name": "stdout",
          "text": [
            "Downloading digit-recognizer.zip to /content\n",
            "\r  0% 0.00/15.3M [00:00<?, ?B/s]\n",
            "\r100% 15.3M/15.3M [00:00<00:00, 1.44GB/s]\n"
          ]
        }
      ]
    },
    {
      "cell_type": "code",
      "source": [
        "!unzip /content/digit-recognizer.zip"
      ],
      "metadata": {
        "colab": {
          "base_uri": "https://localhost:8080/"
        },
        "id": "XSlVCeKd6nVg",
        "outputId": "c99cfa0e-067f-4a83-c5c3-bd4496c3c038"
      },
      "execution_count": 4,
      "outputs": [
        {
          "output_type": "stream",
          "name": "stdout",
          "text": [
            "Archive:  /content/digit-recognizer.zip\n",
            "  inflating: sample_submission.csv   \n",
            "  inflating: test.csv                \n",
            "  inflating: train.csv               \n"
          ]
        }
      ]
    },
    {
      "cell_type": "code",
      "source": [
        "import numpy as np\n",
        "import pandas as pd\n",
        "import matplotlib.pyplot as plt\n",
        "import torch\n",
        "import torch.nn as nn\n",
        "from sklearn.model_selection import train_test_split\n",
        "from torch.utils.data import DataLoader, TensorDataset"
      ],
      "metadata": {
        "id": "DV0YqCVA6tVT"
      },
      "execution_count": 5,
      "outputs": []
    },
    {
      "cell_type": "code",
      "source": [
        "import pandas as pd\n",
        "import numpy as np\n",
        "import torch\n",
        "from torch.utils.data import TensorDataset, DataLoader\n",
        "from sklearn.model_selection import train_test_split\n",
        "import matplotlib.pyplot as plt\n",
        "\n",
        "train = pd.read_csv(\"/content/train.csv\")\n",
        "\n",
        "targets_numpy = train.label.values\n",
        "features_numpy = train.drop('label', axis=1).values / 255.0\n",
        "\n",
        "# Train / Validation split\n",
        "features_train, features_val, targets_train, targets_val = train_test_split(\n",
        "    features_numpy, targets_numpy, test_size=0.2, random_state=42\n",
        ")\n",
        "\n",
        "featuresTrain = torch.from_numpy(features_train).float()\n",
        "targetsTrain = torch.from_numpy(targets_train).long()\n",
        "\n",
        "featuresVal = torch.from_numpy(features_val).float()\n",
        "targetsVal = torch.from_numpy(targets_val).long()\n",
        "\n",
        "BATCH_SIZE = 100\n",
        "train_dataset = TensorDataset(featuresTrain, targetsTrain)\n",
        "val_dataset   = TensorDataset(featuresVal, targetsVal)\n",
        "\n",
        "train_loader = DataLoader(train_dataset, batch_size=BATCH_SIZE, shuffle=True)\n",
        "val_loader   = DataLoader(val_dataset, batch_size=BATCH_SIZE, shuffle=False)\n",
        "\n",
        "test_data = pd.read_csv(\"/content/test.csv\").values / 255.0\n",
        "featuresTest = torch.from_numpy(test_data).float()\n",
        "\n",
        "test_dataset = TensorDataset(featuresTest)\n",
        "test_loader  = DataLoader(test_dataset, batch_size=BATCH_SIZE, shuffle=False)\n",
        "\n",
        "plt.imshow(features_numpy[10].reshape(28, 28), cmap=\"gray\")\n",
        "plt.axis(\"off\")\n",
        "plt.title(str(targets_numpy[10]))\n",
        "plt.show()"
      ],
      "metadata": {
        "colab": {
          "base_uri": "https://localhost:8080/",
          "height": 428
        },
        "id": "bcDv1JES7FTI",
        "outputId": "fcaaf0fb-ced9-44ce-de07-dc86aa182c27"
      },
      "execution_count": 6,
      "outputs": [
        {
          "output_type": "display_data",
          "data": {
            "text/plain": [
              "<Figure size 640x480 with 1 Axes>"
            ],
            "image/png": "[encoded data removed]"
          },
          "metadata": {}
        }
      ]
    },
    {
      "cell_type": "code",
      "source": [
        "class RNNModel(nn.Module):\n",
        "  def __init__(self, input_dim, hidden_dim, layer_dim, output_dim):\n",
        "    super(RNNModel, self).__init__()\n",
        "\n",
        "    self.hidden_dim = hidden_dim\n",
        "    self.layer_dim = layer_dim\n",
        "\n",
        "    self.rnn = nn.RNN(input_size = input_dim,\n",
        "                      hidden_size= hidden_dim,\n",
        "                      num_layers = layer_dim,\n",
        "                      batch_first = True,\n",
        "                      nonlinearity=\"relu\")\n",
        "\n",
        "    self.fc = nn.Linear(hidden_dim, output_dim)\n",
        "\n",
        "  def forward(self, x):\n",
        "\n",
        "    out, _ = self.rnn(x)\n",
        "    out = self.fc(out[:, -1, :])\n",
        "    return out"
      ],
      "metadata": {
        "id": "TeTS-HDO9QrH"
      },
      "execution_count": 15,
      "outputs": []
    },
    {
      "cell_type": "code",
      "source": [
        "BATCH_SIZE = 100\n",
        "n_iters = 8000\n",
        "num_epochs = n_iters / (len(features_train) / BATCH_SIZE)\n",
        "num_epochs = int(num_epochs)\n",
        "\n",
        "print(num_epochs)"
      ],
      "metadata": {
        "colab": {
          "base_uri": "https://localhost:8080/"
        },
        "id": "uxgs_7-sBIaC",
        "outputId": "27cebaf6-cabc-47e3-ea18-8127e94e28cd"
      },
      "execution_count": 16,
      "outputs": [
        {
          "output_type": "stream",
          "name": "stdout",
          "text": [
            "23\n"
          ]
        }
      ]
    },
    {
      "cell_type": "code",
      "source": [
        "device = torch.device(\"cuda:0\" if torch.cuda.is_available() else \"cpu\")\n",
        "print(device)"
      ],
      "metadata": {
        "colab": {
          "base_uri": "https://localhost:8080/"
        },
        "id": "oZrxRJokGquD",
        "outputId": "6da15cb9-a265-45aa-f442-7d417f36deff"
      },
      "execution_count": 33,
      "outputs": [
        {
          "output_type": "stream",
          "name": "stdout",
          "text": [
            "cuda:0\n"
          ]
        }
      ]
    },
    {
      "cell_type": "code",
      "source": [
        "input_dim = 28\n",
        "hidden_dim = 100\n",
        "layer_dim = 1\n",
        "output_dim = 10\n",
        "\n",
        "model = RNNModel(input_dim, hidden_dim, layer_dim, output_dim)\n",
        "model.to(device)\n",
        "criterion = nn.CrossEntropyLoss()\n",
        "\n",
        "optimizer = torch.optim.Adam(model.parameters(), lr = 1e-3, weight_decay = 1e-4)\n",
        "scheduler = torch.optim.lr_scheduler.StepLR(optimizer, step_size = 25, gamma=0.1)"
      ],
      "metadata": {
        "id": "hsQIQbeRBdoi"
      },
      "execution_count": 53,
      "outputs": []
    },
    {
      "cell_type": "code",
      "source": [
        "seq_dim = 28\n",
        "train_losses, val_losses = [], []\n",
        "train_accuracies, val_accuracies = [], []\n",
        "\n",
        "num_epochs = 26\n",
        "\n",
        "for epoch in range(num_epochs):\n",
        "  model.train()\n",
        "  running_loss, running_correct, total = 0.0, 0, 0\n",
        "\n",
        "  for i, (image, label) in enumerate(train_loader):\n",
        "    image, label = image.view(-1, seq_dim, input_dim).to(device).float(), label.to(device)\n",
        "\n",
        "    optimizer.zero_grad()\n",
        "    outputs = model(image)\n",
        "    loss = criterion(outputs, label)\n",
        "    loss.backward()\n",
        "    optimizer.step()\n",
        "\n",
        "    running_loss += loss.item() * label.size(0)\n",
        "    _, predicted = torch.max(outputs, 1)\n",
        "    running_correct += (predicted == label).sum().item()\n",
        "    total += label.size(0)\n",
        "\n",
        "  train_loss = running_loss / total\n",
        "  train_acc = running_correct / total\n",
        "  train_losses.append(train_loss)\n",
        "  train_accuracies.append(train_acc)\n",
        "\n",
        "  model.eval()\n",
        "  val_running_loss, val_running_correct, val_total = 0.0, 0, 0\n",
        "\n",
        "  with torch.no_grad():\n",
        "    for image, label in val_loader:\n",
        "        image = image.view(-1, seq_dim, input_dim).to(device).to(torch.float32)\n",
        "        label = label.to(device)\n",
        "        outputs = model(image)\n",
        "        loss = criterion(outputs, label)\n",
        "\n",
        "        val_running_loss += loss.item() * label.size(0)\n",
        "        _, predicted = torch.max(outputs, 1)\n",
        "        val_running_correct += (predicted == label).sum().item()\n",
        "        val_total += label.size(0)\n",
        "\n",
        "  val_loss = val_running_loss / val_total\n",
        "  val_acc = val_running_correct / val_total\n",
        "  val_losses.append(val_loss)\n",
        "  val_accuracies.append(val_acc)\n",
        "\n",
        "  scheduler.step()\n",
        "\n",
        "  print(f\"Epoch [{epoch+1}/{num_epochs}] \"\n",
        "      f\"Train Loss: {train_loss:.4f}, Train Acc: {train_acc*100:.2f}% \"\n",
        "      f\"Val Loss: {val_loss:.4f}, Val Acc: {val_acc*100:.2f}%\")"
      ],
      "metadata": {
        "colab": {
          "base_uri": "https://localhost:8080/"
        },
        "id": "AL2TXd7YCphb",
        "outputId": "037f5561-5955-49a3-b848-946d53c73ba8"
      },
      "execution_count": 54,
      "outputs": [
        {
          "output_type": "stream",
          "name": "stdout",
          "text": [
            "Epoch [1/26] Train Loss: 1.2248, Train Acc: 56.53% Val Loss: 0.7537, Val Acc: 75.76%\n",
            "Epoch [2/26] Train Loss: 0.6150, Train Acc: 80.24% Val Loss: 0.5088, Val Acc: 84.15%\n",
            "Epoch [3/26] Train Loss: 0.4420, Train Acc: 86.41% Val Loss: 0.3746, Val Acc: 88.61%\n",
            "Epoch [4/26] Train Loss: 0.3459, Train Acc: 89.40% Val Loss: 0.3226, Val Acc: 90.29%\n",
            "Epoch [5/26] Train Loss: 0.2971, Train Acc: 91.15% Val Loss: 0.2722, Val Acc: 91.85%\n",
            "Epoch [6/26] Train Loss: 0.2536, Train Acc: 92.20% Val Loss: 0.2392, Val Acc: 92.62%\n",
            "Epoch [7/26] Train Loss: 0.2345, Train Acc: 92.96% Val Loss: 0.2378, Val Acc: 93.01%\n",
            "Epoch [8/26] Train Loss: 0.2002, Train Acc: 93.97% Val Loss: 0.2121, Val Acc: 93.44%\n",
            "Epoch [9/26] Train Loss: 0.1822, Train Acc: 94.42% Val Loss: 0.2292, Val Acc: 92.88%\n",
            "Epoch [10/26] Train Loss: 0.1793, Train Acc: 94.52% Val Loss: 0.1886, Val Acc: 94.17%\n",
            "Epoch [11/26] Train Loss: 0.1571, Train Acc: 95.30% Val Loss: 0.1544, Val Acc: 95.17%\n",
            "Epoch [12/26] Train Loss: 0.1547, Train Acc: 95.29% Val Loss: 0.1617, Val Acc: 94.71%\n",
            "Epoch [13/26] Train Loss: 0.1427, Train Acc: 95.57% Val Loss: 0.1542, Val Acc: 95.12%\n",
            "Epoch [14/26] Train Loss: 0.1304, Train Acc: 96.12% Val Loss: 0.1410, Val Acc: 95.62%\n",
            "Epoch [15/26] Train Loss: 0.1273, Train Acc: 96.03% Val Loss: 0.1278, Val Acc: 96.14%\n",
            "Epoch [16/26] Train Loss: 0.1259, Train Acc: 96.10% Val Loss: 0.1474, Val Acc: 95.71%\n",
            "Epoch [17/26] Train Loss: 0.1176, Train Acc: 96.46% Val Loss: 0.1583, Val Acc: 95.32%\n",
            "Epoch [18/26] Train Loss: 0.1107, Train Acc: 96.65% Val Loss: 0.1542, Val Acc: 95.38%\n",
            "Epoch [19/26] Train Loss: 0.1079, Train Acc: 96.74% Val Loss: 0.1211, Val Acc: 96.33%\n",
            "Epoch [20/26] Train Loss: 0.1020, Train Acc: 96.85% Val Loss: 0.1191, Val Acc: 96.52%\n",
            "Epoch [21/26] Train Loss: 0.1009, Train Acc: 97.04% Val Loss: 0.1133, Val Acc: 96.52%\n",
            "Epoch [22/26] Train Loss: 0.0936, Train Acc: 97.23% Val Loss: 0.1498, Val Acc: 95.60%\n",
            "Epoch [23/26] Train Loss: 0.0950, Train Acc: 97.19% Val Loss: 0.1197, Val Acc: 96.49%\n",
            "Epoch [24/26] Train Loss: 0.0915, Train Acc: 97.15% Val Loss: 0.1083, Val Acc: 96.67%\n",
            "Epoch [25/26] Train Loss: 0.0885, Train Acc: 97.30% Val Loss: 0.1136, Val Acc: 96.69%\n",
            "Epoch [26/26] Train Loss: 0.0550, Train Acc: 98.38% Val Loss: 0.0890, Val Acc: 97.31%\n"
          ]
        }
      ]
    },
    {
      "cell_type": "code",
      "source": [
        "# Loss curve\n",
        "plt.plot(train_losses, label='Train Loss')\n",
        "plt.plot(val_losses, label='Validation Loss')\n",
        "plt.xlabel('Epoch')\n",
        "plt.ylabel('Loss')\n",
        "plt.legend()\n",
        "plt.show()\n",
        "\n",
        "# Accuracy curve\n",
        "plt.plot(train_accuracies, label='Train Accuracy')\n",
        "plt.plot(val_accuracies, label='Validation Accuracy')\n",
        "plt.xlabel('Epoch')\n",
        "plt.ylabel('Accuracy')\n",
        "plt.legend()\n",
        "plt.show()\n"
      ],
      "metadata": {
        "colab": {
          "base_uri": "https://localhost:8080/",
          "height": 883
        },
        "id": "NQCTPfyzE8Ve",
        "outputId": "2a226982-3778-4f07-8fe3-ba10f72963a2"
      },
      "execution_count": 55,
      "outputs": [
        {
          "output_type": "display_data",
          "data": {
            "text/plain": [
              "<Figure size 640x480 with 1 Axes>"
            ],
            "image/png": "[encoded data removed]"
          },
          "metadata": {}
        },
        {
          "output_type": "display_data",
          "data": {
            "text/plain": [
              "<Figure size 640x480 with 1 Axes>"
            ],
            "image/png": "[encoded data removed]"
          },
          "metadata": {}
        }
      ]
    },
    {
      "cell_type": "markdown",
      "source": [
        "# Thank You"
      ],
      "metadata": {
        "id": "NDYKJR7YJFcd"
      }
    }
  ]
}